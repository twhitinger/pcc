{
 "cells": [
  {
   "cell_type": "code",
   "execution_count": 2,
   "metadata": {},
   "outputs": [],
   "source": [
    "from collections import OrderedDict"
   ]
  },
  {
   "cell_type": "code",
   "execution_count": 9,
   "metadata": {},
   "outputs": [],
   "source": [
    "favorite_languages = OrderedDict()"
   ]
  },
  {
   "cell_type": "code",
   "execution_count": 10,
   "metadata": {},
   "outputs": [
    {
     "name": "stdout",
     "output_type": "stream",
     "text": [
      "John's favorite language is Python\n",
      "Jacob's favorite language is C\n",
      "Edward's favorite language is Ruby\n",
      "Phil's favorite language is Python\n"
     ]
    }
   ],
   "source": [
    "favorite_languages['john'] = 'python'\n",
    "favorite_languages['jacob'] = 'c'\n",
    "favorite_languages['edward'] = 'ruby'\n",
    "favorite_languages['phil'] = 'python'\n",
    "\n",
    "for name, language in favorite_languages.items():\n",
    "    print(\"{}'s favorite language is {}\".format(name.title(), language.title()))"
   ]
  },
  {
   "cell_type": "code",
   "execution_count": 11,
   "metadata": {},
   "outputs": [],
   "source": [
    "from random import randint"
   ]
  },
  {
   "cell_type": "code",
   "execution_count": 22,
   "metadata": {},
   "outputs": [],
   "source": [
    "class Die():\n",
    "    \n",
    "    def __init__(self, sides=6):\n",
    "        self.sides = sides\n",
    "        \n",
    "    def roll_die(self):\n",
    "        x = randint(1, self.sides)\n",
    "        print(x)"
   ]
  },
  {
   "cell_type": "code",
   "execution_count": 27,
   "metadata": {},
   "outputs": [
    {
     "name": "stdout",
     "output_type": "stream",
     "text": [
      "3\n",
      "2\n",
      "3\n",
      "6\n",
      "2\n",
      "1\n",
      "10\n",
      "7\n",
      "10\n",
      "8\n",
      "8\n",
      "7\n",
      "17\n",
      "4\n",
      "12\n"
     ]
    }
   ],
   "source": [
    "die = Die()\n",
    "die.roll_die()\n",
    "die.roll_die()\n",
    "die.roll_die()\n",
    "die.roll_die()\n",
    "die.roll_die()\n",
    "die = Die(10)\n",
    "die.roll_die()\n",
    "die.roll_die()\n",
    "die.roll_die()\n",
    "die.roll_die()\n",
    "die.roll_die()\n",
    "die.roll_die()\n",
    "die = Die(20)\n",
    "die.roll_die()\n",
    "die.roll_die()\n",
    "die.roll_die()\n",
    "die.roll_die()"
   ]
  },
  {
   "cell_type": "code",
   "execution_count": null,
   "metadata": {},
   "outputs": [],
   "source": []
  }
 ],
 "metadata": {
  "kernelspec": {
   "display_name": "Python 3",
   "language": "python",
   "name": "python3"
  },
  "language_info": {
   "codemirror_mode": {
    "name": "ipython",
    "version": 3
   },
   "file_extension": ".py",
   "mimetype": "text/x-python",
   "name": "python",
   "nbconvert_exporter": "python",
   "pygments_lexer": "ipython3",
   "version": "3.6.0"
  }
 },
 "nbformat": 4,
 "nbformat_minor": 2
}
