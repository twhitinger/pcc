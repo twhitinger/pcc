{
 "cells": [
  {
   "cell_type": "code",
   "execution_count": 27,
   "metadata": {},
   "outputs": [],
   "source": [
    "class Car():\n",
    "    def __init__(self, make, model, year):\n",
    "        self.make = make\n",
    "        self.model = model\n",
    "        self.year = year\n",
    "        self.odometer_reading = 0\n",
    "    def get_descriptive_name(self):\n",
    "        long_name = str(self.year) + ' ' + self.make + ' ' + self.model\n",
    "        return long_name.title()\n",
    "    def read_odometer(self):\n",
    "        print(\"This car has \" + str(self.odometer_reading) + \" miles on it.\")\n",
    "    def update_odometer(self, mileage):\n",
    "        if mileage >= self.odometer_reading:\n",
    "            self.odometer_reading = mileage\n",
    "        else:\n",
    "            print(\"You can't roll back an odometer!\")\n",
    "    def increment_odometer(self, miles):\n",
    "        self.odometer_reading += miles"
   ]
  },
  {
   "cell_type": "code",
   "execution_count": 29,
   "metadata": {},
   "outputs": [],
   "source": [
    "class Battery():\n",
    "    def __init__(self, battery_size=70):\n",
    "        self.battery_size = battery_size\n",
    "        \n",
    "    def describe_battery(self):\n",
    "        print(\"This car has a {}-kWh battery.\".format(self.battery_size))\n",
    "        \n",
    "    def get_range(self):\n",
    "        if self.battery_size == 70:\n",
    "            range = 240\n",
    "        elif self.battery_size == 85:\n",
    "            range = 270 \n",
    "        print(\"This car can go {} miles on a fully charge\".format(range))\n",
    "        \n",
    "    def upgrade_battery(self):\n",
    "        if self.battery_size != 85:\n",
    "            self.battery_size = 85\n",
    "            print(\"Upgrade to battery size {}\".format(self.battery_size))\n",
    "        else:\n",
    "            print(\"Your battery cannot be upgraded past {}\".format(self.battery_size))\n",
    "        "
   ]
  },
  {
   "cell_type": "code",
   "execution_count": 30,
   "metadata": {},
   "outputs": [],
   "source": [
    "class ElectricCar(Car):\n",
    "    def __init__(self, make, model, year):\n",
    "        super().__init__(make, model, year)\n",
    "        self.battery = Battery()\n",
    "        \n",
    "    def describe_battery(self):\n",
    "        self.battery.describe_battery()\n",
    "        \n",
    "    def get_range(self):\n",
    "        self.battery.get_range()\n",
    "        \n",
    "    def upgrade_battery(self):\n",
    "        self.battery.upgrade_battery()\n",
    "    "
   ]
  },
  {
   "cell_type": "code",
   "execution_count": 35,
   "metadata": {},
   "outputs": [
    {
     "name": "stdout",
     "output_type": "stream",
     "text": [
      "2016 Tesla Model S\n",
      "This car has a 70-kWh battery.\n",
      "This car can go 240 miles on a fully charge\n",
      "Upgrade to battery size 85\n",
      "This car can go 270 miles on a fully charge\n",
      "Your battery cannot be upgraded past 85\n",
      "This car can go 270 miles on a fully charge\n"
     ]
    }
   ],
   "source": [
    "my_tesla = ElectricCar(\"tesla\", \"model s\", 2016)\n",
    "print(my_tesla.get_descriptive_name())\n",
    "my_tesla.describe_battery()\n",
    "my_tesla.get_range()\n",
    "my_tesla.upgrade_battery()\n",
    "my_tesla.get_range()\n",
    "my_tesla.upgrade_battery()\n",
    "my_tesla.get_range()"
   ]
  },
  {
   "cell_type": "code",
   "execution_count": null,
   "metadata": {},
   "outputs": [],
   "source": []
  }
 ],
 "metadata": {
  "kernelspec": {
   "display_name": "Python 3",
   "language": "python",
   "name": "python3"
  },
  "language_info": {
   "codemirror_mode": {
    "name": "ipython",
    "version": 3
   },
   "file_extension": ".py",
   "mimetype": "text/x-python",
   "name": "python",
   "nbconvert_exporter": "python",
   "pygments_lexer": "ipython3",
   "version": "3.6.0"
  }
 },
 "nbformat": 4,
 "nbformat_minor": 2
}
