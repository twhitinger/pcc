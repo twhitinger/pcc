{
 "cells": [
  {
   "cell_type": "code",
   "execution_count": 43,
   "metadata": {},
   "outputs": [],
   "source": [
    "from car import Car\n",
    "from battery import Battery"
   ]
  },
  {
   "cell_type": "code",
   "execution_count": 44,
   "metadata": {},
   "outputs": [],
   "source": [
    "class ElectricCar(Car):\n",
    "    def __init__(self, make, model, year):\n",
    "        super().__init__(make, model, year)\n",
    "        self.battery = Battery()\n",
    "        \n",
    "    def describe_battery(self):\n",
    "        self.battery.describe_battery()\n",
    "        \n",
    "    def get_range(self):\n",
    "        self.battery.get_range()\n",
    "        \n",
    "    def upgrade_battery(self):\n",
    "        self.battery.upgrade_battery()\n",
    "        "
   ]
  },
  {
   "cell_type": "code",
   "execution_count": 45,
   "metadata": {},
   "outputs": [
    {
     "name": "stdout",
     "output_type": "stream",
     "text": [
      "2016 Tesla Model S\n",
      "This car has a 70-kWh battery.\n",
      "This car can go 240 miles on a fully charge\n",
      "Upgrade to battery size 85\n",
      "This car can go 270 miles on a fully charge\n",
      "Your battery cannot be upgraded past 85\n",
      "This car can go 270 miles on a fully charge\n"
     ]
    }
   ],
   "source": [
    "my_tesla = ElectricCar(\"tesla\", \"model s\", 2016)\n",
    "print(my_tesla.get_descriptive_name())\n",
    "my_tesla.describe_battery()\n",
    "my_tesla.get_range()\n",
    "my_tesla.upgrade_battery()\n",
    "my_tesla.get_range()\n",
    "my_tesla.upgrade_battery()\n",
    "my_tesla.get_range()\n",
    "    "
   ]
  },
  {
   "cell_type": "code",
   "execution_count": 42,
   "metadata": {},
   "outputs": [
    {
     "name": "stdout",
     "output_type": "stream",
     "text": [
      "2016 Tesla Model S\n",
      "This car has a 70-kWh battery.\n",
      "This car can go 240 miles on a fully charge\n",
      "Upgrade to battery size 85\n",
      "This car can go 270 miles on a fully charge\n",
      "Your battery cannot be upgraded past 85\n",
      "This car can go 270 miles on a fully charge\n"
     ]
    }
   ],
   "source": []
  },
  {
   "cell_type": "code",
   "execution_count": null,
   "metadata": {},
   "outputs": [],
   "source": []
  }
 ],
 "metadata": {
  "kernelspec": {
   "display_name": "Python 3",
   "language": "python",
   "name": "python3"
  },
  "language_info": {
   "codemirror_mode": {
    "name": "ipython",
    "version": 3
   },
   "file_extension": ".py",
   "mimetype": "text/x-python",
   "name": "python",
   "nbconvert_exporter": "python",
   "pygments_lexer": "ipython3",
   "version": "3.6.0"
  }
 },
 "nbformat": 4,
 "nbformat_minor": 2
}
