{
 "cells": [
  {
   "cell_type": "code",
   "execution_count": 44,
   "metadata": {},
   "outputs": [],
   "source": [
    "def get_formatted_name(first, last, middle=\"\"):\n",
    "    if middle:\n",
    "        full_name = \"{} {} {}\".format(first, middle, last)\n",
    "    else:\n",
    "        full_name = \"{} {}\".format(first, last)\n",
    "    return full_name.title()"
   ]
  },
  {
   "cell_type": "code",
   "execution_count": 2,
   "metadata": {},
   "outputs": [
    {
     "name": "stdout",
     "output_type": "stream",
     "text": [
      "\n",
      "Please give me a first name: Trent\n",
      "Please give me a last name: Whitinger\n",
      "\tNeatly formatted name: Trent Whitinger.\n",
      "\n",
      "Please give me a first name: q\n"
     ]
    }
   ],
   "source": [
    "while True:\n",
    "    first = input(\"\\nPlease give me a first name: \")\n",
    "    if first == 'q':\n",
    "        break\n",
    "    last = input(\"Please give me a last name: \")\n",
    "    if last == 'q':\n",
    "        break\n",
    "        \n",
    "    formatted_name = get_formatted_name(first, last)\n",
    "    print(\"\\tNeatly formatted name: \" + formatted_name + '.')"
   ]
  },
  {
   "cell_type": "code",
   "execution_count": 66,
   "metadata": {},
   "outputs": [],
   "source": [
    "import unittest\n",
    "from IPython.core.debugger import set_trace\n",
    "\n",
    "class NamesTestCase(unittest.TestCase):\n",
    "    \n",
    "    def xtest_first_last_name(self):\n",
    "        formatted_name = get_formatted_name('janis', 'joplin')\n",
    "        self.assertEqual(formatted_name, 'Janis Joplin')\n",
    "        \n",
    "    def xtest_middle_with_first_last_name(self):\n",
    "        formatted_name = get_formatted_name('janis','joplin', 'j')\n",
    "        self.assertEqual(formatted_name, 'Janis J Joplin')\n",
    "        self.assertNotEqual(formatted_name, '')\n",
    "        self.assertTrue(formatted_name)\n",
    "#         self.assertFalse()\n",
    "#         self.assertIn(item, list)\n",
    "#         self.assertNotIn(item, list)\n",
    "        "
   ]
  },
  {
   "cell_type": "code",
   "execution_count": 67,
   "metadata": {},
   "outputs": [
    {
     "name": "stderr",
     "output_type": "stream",
     "text": [
      ".\n",
      "----------------------------------------------------------------------\n",
      "Ran 1 test in 0.001s\n",
      "\n",
      "OK\n"
     ]
    },
    {
     "data": {
      "text/plain": [
       "<unittest.main.TestProgram at 0x10426ba58>"
      ]
     },
     "execution_count": 67,
     "metadata": {},
     "output_type": "execute_result"
    }
   ],
   "source": [
    "unittest.main(argv=['first-arg-is-ignored'], exit=False)"
   ]
  },
  {
   "cell_type": "code",
   "execution_count": 58,
   "metadata": {},
   "outputs": [],
   "source": [
    "class AnonymousSurvey():\n",
    "    \n",
    "    def __init__(self, question):\n",
    "        self.question = question\n",
    "        self.responses = list()\n",
    "        \n",
    "    def show_question(self):\n",
    "        print(question)\n",
    "        \n",
    "    def store_response(self, new_response):\n",
    "        self.responses.append(new_response)\n",
    "        \n",
    "    def show_results(self):\n",
    "        print(\"Survey results:\")\n",
    "        for response in self.responses:\n",
    "            print('- ' + response)"
   ]
  },
  {
   "cell_type": "code",
   "execution_count": 59,
   "metadata": {},
   "outputs": [
    {
     "name": "stdout",
     "output_type": "stream",
     "text": [
      "What language did you first learn to speak?\n",
      "Enter 'q' at any time to quit.\n",
      "\n",
      "Language: hello\n",
      "Language: q\n",
      "\n",
      "Thank you to everyone who participated in the survey!\n",
      "Survey results:\n",
      "- hello\n"
     ]
    }
   ],
   "source": [
    "question = \"What language did you first learn to speak?\"\n",
    "my_survey = AnonymousSurvey(question)\n",
    "my_survey.show_question()\n",
    "print(\"Enter 'q' at any time to quit.\\n\")\n",
    "while True:\n",
    "    response = input(\"Language: \")\n",
    "    if response == 'q':\n",
    "        break\n",
    "    my_survey.store_response(response)\n",
    "    \n",
    "print(\"\\nThank you to everyone who participated in the survey!\")\n",
    "my_survey.show_results()"
   ]
  },
  {
   "cell_type": "code",
   "execution_count": 75,
   "metadata": {},
   "outputs": [],
   "source": [
    "class TestAnonymousSurvey(unittest.TestCase):\n",
    "    \n",
    "    def setUp(self):\n",
    "        question = \"What language did you first learn to speak?\"\n",
    "        self.my_survey = AnonymousSurvey(question)\n",
    "        self.responses = ['English', 'Spanish', 'Mandarin']\n",
    "        \n",
    "    def test_store_single_response(self):\n",
    "        self.my_survey.store_response(self.responses[0])\n",
    "        self.assertIn('English', self.my_survey.responses)\n",
    "        \n",
    "    def test_store_three_responses(self):\n",
    "    \n",
    "        for response in self.responses:\n",
    "            self.my_survey.store_response(response)\n",
    "            \n",
    "        for response in self.responses:\n",
    "            self.assertIn(response, self.my_survey.responses)"
   ]
  },
  {
   "cell_type": "code",
   "execution_count": 76,
   "metadata": {},
   "outputs": [
    {
     "name": "stderr",
     "output_type": "stream",
     "text": [
      "..\n",
      "----------------------------------------------------------------------\n",
      "Ran 2 tests in 0.002s\n",
      "\n",
      "OK\n"
     ]
    },
    {
     "data": {
      "text/plain": [
       "<unittest.main.TestProgram at 0x1043c6240>"
      ]
     },
     "execution_count": 76,
     "metadata": {},
     "output_type": "execute_result"
    }
   ],
   "source": [
    "unittest.main(argv=['first-arg-is-ignored'], exit=False)"
   ]
  },
  {
   "cell_type": "code",
   "execution_count": null,
   "metadata": {},
   "outputs": [],
   "source": []
  }
 ],
 "metadata": {
  "kernelspec": {
   "display_name": "Python 3",
   "language": "python",
   "name": "python3"
  },
  "language_info": {
   "codemirror_mode": {
    "name": "ipython",
    "version": 3
   },
   "file_extension": ".py",
   "mimetype": "text/x-python",
   "name": "python",
   "nbconvert_exporter": "python",
   "pygments_lexer": "ipython3",
   "version": "3.6.0"
  }
 },
 "nbformat": 4,
 "nbformat_minor": 2
}
