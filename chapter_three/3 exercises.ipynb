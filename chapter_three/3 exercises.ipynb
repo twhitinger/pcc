{
 "cells": [
  {
   "cell_type": "code",
   "execution_count": 43,
   "metadata": {},
   "outputs": [
    {
     "name": "stdout",
     "output_type": "stream",
     "text": [
      "come to my party Mike!\n",
      "come to the event DAN!\n",
      "dance with me becky!\n"
     ]
    }
   ],
   "source": [
    "guests = [\"mike\", \"dan\", \"becky\"]\n",
    "\n",
    "print(\"come to my party {}!\".format(guests[0].title()))\n",
    "print(\"come to the event {}!\".format(guests[1].upper()))\n",
    "print(\"dance with me {}!\".format(guests[2]))"
   ]
  },
  {
   "cell_type": "code",
   "execution_count": 44,
   "metadata": {},
   "outputs": [
    {
     "name": "stdout",
     "output_type": "stream",
     "text": [
      "Mike can't make it\n",
      "come to my party Barley!\n",
      "come to the event DAN!\n",
      "dance with me becky!\n"
     ]
    }
   ],
   "source": [
    "print(\"{} can't make it\".format(guests[0].title()))\n",
    "guests[0] = \"barley\"\n",
    "\n",
    "print(\"come to my party {}!\".format(guests[0].title()))\n",
    "print(\"come to the event {}!\".format(guests[1].upper()))\n",
    "print(\"dance with me {}!\".format(guests[2]))"
   ]
  },
  {
   "cell_type": "code",
   "execution_count": 45,
   "metadata": {},
   "outputs": [
    {
     "name": "stdout",
     "output_type": "stream",
     "text": [
      "I found a bigger table\n"
     ]
    }
   ],
   "source": [
    "print(\"I found a bigger table\")\n",
    "guests.insert(0, \"Tabi\")\n",
    "guests.insert(2, \"middy\")\n",
    "guests.append(\"ender\")"
   ]
  },
  {
   "cell_type": "code",
   "execution_count": 46,
   "metadata": {},
   "outputs": [
    {
     "name": "stdout",
     "output_type": "stream",
     "text": [
      "come to my party Tabi!\n",
      "come to the event BARLEY!\n",
      "dance with me middy!\n",
      "you are invited dan\n",
      "almost forgot you becky\n",
      "you can end it ender\n"
     ]
    },
    {
     "data": {
      "text/plain": [
       "6"
      ]
     },
     "execution_count": 46,
     "metadata": {},
     "output_type": "execute_result"
    }
   ],
   "source": [
    "print(\"come to my party {}!\".format(guests[0].title()))\n",
    "print(\"come to the event {}!\".format(guests[1].upper()))\n",
    "print(\"dance with me {}!\".format(guests[2]))\n",
    "print(\"you are invited {}\".format(guests[3]))\n",
    "print(\"almost forgot you {}\".format(guests[4]))\n",
    "print(\"you can end it {}\".format(guests[-1]))\n",
    "len(guests)"
   ]
  },
  {
   "cell_type": "code",
   "execution_count": 47,
   "metadata": {},
   "outputs": [
    {
     "name": "stdout",
     "output_type": "stream",
     "text": [
      "I can only invite two of you\n",
      "POP you are uninvited ender!\n",
      "POP you are uninvited becky!\n",
      "POP you are uninvited dan!\n",
      "POP you are uninvited middy!\n"
     ]
    }
   ],
   "source": [
    "print(\"I can only invite two of you\")\n",
    "print(\"POP you are uninvited {}!\".format(guests.pop()))\n",
    "print(\"POP you are uninvited {}!\".format(guests.pop()))\n",
    "print(\"POP you are uninvited {}!\".format(guests.pop()))\n",
    "print(\"POP you are uninvited {}!\".format(guests.pop()))\n"
   ]
  },
  {
   "cell_type": "code",
   "execution_count": 48,
   "metadata": {},
   "outputs": [
    {
     "data": {
      "text/plain": [
       "2"
      ]
     },
     "execution_count": 48,
     "metadata": {},
     "output_type": "execute_result"
    }
   ],
   "source": [
    "len(guests)"
   ]
  },
  {
   "cell_type": "code",
   "execution_count": 49,
   "metadata": {},
   "outputs": [
    {
     "name": "stdout",
     "output_type": "stream",
     "text": [
      "you are one of the lucky two Tabi\n",
      "you are one of the lucky two barley\n"
     ]
    }
   ],
   "source": [
    "print(\"you are one of the lucky two {}\".format(guests[0]))\n",
    "print(\"you are one of the lucky two {}\".format(guests[1]))"
   ]
  },
  {
   "cell_type": "code",
   "execution_count": 50,
   "metadata": {},
   "outputs": [
    {
     "name": "stdout",
     "output_type": "stream",
     "text": [
      "and then there were 0\n"
     ]
    }
   ],
   "source": [
    "del guests[0]\n",
    "del guests[0]\n",
    "\n",
    "print(\"and then there were {}\".format(len(guests)))\n"
   ]
  },
  {
   "cell_type": "code",
   "execution_count": 51,
   "metadata": {},
   "outputs": [
    {
     "data": {
      "text/plain": [
       "[]"
      ]
     },
     "execution_count": 51,
     "metadata": {},
     "output_type": "execute_result"
    }
   ],
   "source": [
    "guests"
   ]
  },
  {
   "cell_type": "code",
   "execution_count": 90,
   "metadata": {},
   "outputs": [],
   "source": [
    "lists = [[10, 15, 30], [12, 15, 20], [17, 20, 32]]"
   ]
  },
  {
   "cell_type": "code",
   "execution_count": 91,
   "metadata": {},
   "outputs": [],
   "source": [
    "merged_list = []\n",
    "heap = [(arr[0], i, 0) for i, arr in enumerate(lists) if arr]"
   ]
  },
  {
   "cell_type": "code",
   "execution_count": 92,
   "metadata": {},
   "outputs": [],
   "source": [
    "from heapq import heapify, heappop, heappush \n",
    "\n",
    "while heap:\n",
    "    heapify(heap)\n",
    "    val, i, j = heappop(heap)\n",
    "    merged_list.append(val)\n",
    "    \n",
    "    if j + 1 < len(lists[i]):\n",
    "        next_tuple = (lists[i][j + 1],\n",
    "                      i, j + 1)\n",
    "        heappush(heap, next_tuple)\n",
    "\n",
    "\n"
   ]
  },
  {
   "cell_type": "code",
   "execution_count": 93,
   "metadata": {},
   "outputs": [
    {
     "data": {
      "text/plain": [
       "[10, 12, 15, 15, 17, 20, 20, 30, 32]"
      ]
     },
     "execution_count": 93,
     "metadata": {},
     "output_type": "execute_result"
    }
   ],
   "source": [
    "merged_list"
   ]
  },
  {
   "cell_type": "code",
   "execution_count": null,
   "metadata": {},
   "outputs": [],
   "source": [
    "\n",
    "def merge(lists):\n",
    "    merged_list = []\n",
    "\n",
    "    heap = [(lst[0], i, 0) for i, lst in enumerate(lists) if lst]\n",
    "    heapq.heapify(heap)\n",
    "\n",
    "    while heap:\n",
    "        val, list_ind, element_ind = heapq.heappop(heap)\n",
    "\n",
    "        merged_list.append(val)\n",
    "\n",
    "        if element_ind + 1 < len(lists[list_ind]):\n",
    "            next_tuple = (lists[list_ind][element_ind + 1],\n",
    "                          list_ind,\n",
    "                          element_ind + 1)\n",
    "            heapq.heappush(heap, next_tuple)\n",
    "    return merged_list"
   ]
  }
 ],
 "metadata": {
  "kernelspec": {
   "display_name": "Python 3",
   "language": "python",
   "name": "python3"
  },
  "language_info": {
   "codemirror_mode": {
    "name": "ipython",
    "version": 3
   },
   "file_extension": ".py",
   "mimetype": "text/x-python",
   "name": "python",
   "nbconvert_exporter": "python",
   "pygments_lexer": "ipython3",
   "version": "3.6.0"
  }
 },
 "nbformat": 4,
 "nbformat_minor": 2
}
