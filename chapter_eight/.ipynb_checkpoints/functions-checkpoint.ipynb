{
 "cells": [
  {
   "cell_type": "code",
   "execution_count": null,
   "metadata": {},
   "outputs": [],
   "source": [
    "def greet_user(username):\n",
    "    print(\"Hello, {}!\".format(username.title()))\n",
    "    \n",
    "greet_user(\"george\")"
   ]
  },
  {
   "cell_type": "code",
   "execution_count": null,
   "metadata": {},
   "outputs": [],
   "source": [
    "def display_message():\n",
    "    print(\"Learning functions this chapter\")\n",
    "    \n",
    "    \n",
    "display_message()"
   ]
  },
  {
   "cell_type": "code",
   "execution_count": null,
   "metadata": {},
   "outputs": [],
   "source": [
    "def favorite_book(book_name):\n",
    "    print(\"I read enjoy the book {}\".format(book_name.title()))\n",
    "    \n",
    "favorite_book(\"i know the future\")"
   ]
  },
  {
   "cell_type": "code",
   "execution_count": null,
   "metadata": {},
   "outputs": [],
   "source": [
    "def describe_pet(pet_name, animal_type='dog'):\n",
    "    print(\"\\nI have a {} and its name is {}\".format(animal_type, pet_name.title()))\n",
    "    \n",
    "describe_pet(\"tiger\", \"tigger\")"
   ]
  },
  {
   "cell_type": "code",
   "execution_count": null,
   "metadata": {},
   "outputs": [],
   "source": [
    "describe_pet(\"monkey\", \"george\")"
   ]
  },
  {
   "cell_type": "code",
   "execution_count": null,
   "metadata": {},
   "outputs": [],
   "source": [
    "describe_pet(animal_type='hamster', pet_name='harry')"
   ]
  },
  {
   "cell_type": "code",
   "execution_count": null,
   "metadata": {},
   "outputs": [],
   "source": [
    "describe_pet(pet_name=\"billy\")"
   ]
  },
  {
   "cell_type": "code",
   "execution_count": null,
   "metadata": {},
   "outputs": [],
   "source": [
    "describe_pet('nose', 'chettah')"
   ]
  },
  {
   "cell_type": "code",
   "execution_count": null,
   "metadata": {},
   "outputs": [],
   "source": [
    "def get_formatted_name(first_name, last_name, middle_name=\"\"):\n",
    "    \n",
    "    if middle_name:\n",
    "        full_name =\"{} {} {}\".format(first_name, middle_name, last_name)\n",
    "    else:\n",
    "        full_name = \"{} {}\".format(first_name, last_name)\n",
    "    return full_name.title()\n",
    "\n",
    "musician = get_formatted_name('jimi', 'hendrix')\n",
    "print(musician)\n",
    "musician = get_formatted_name('john', 'jacobs', 'BFR')\n",
    "print(musician)"
   ]
  },
  {
   "cell_type": "code",
   "execution_count": null,
   "metadata": {},
   "outputs": [],
   "source": [
    "name = \"\"\n",
    "type(name)\n",
    "bool(name)"
   ]
  },
  {
   "cell_type": "code",
   "execution_count": null,
   "metadata": {},
   "outputs": [],
   "source": [
    "def build_person(first_name, last_name, age=''):\n",
    "    person = {'first': first_name, 'last': last_name}\n",
    "    if age:\n",
    "        person['age'] = age\n",
    "    return person\n",
    "\n",
    "\n",
    "\n",
    "musician = build_person('Stone', 'Cole')\n",
    "print(musician)\n",
    "musician = build_person('Big', 'OL', 33)\n",
    "print(musician)"
   ]
  },
  {
   "cell_type": "code",
   "execution_count": null,
   "metadata": {},
   "outputs": [],
   "source": [
    "while True:\n",
    "    print(\"\\nPlease tell me your name:\")\n",
    "    print(\"(enter 'q' at any time to quit)\")\n",
    "    \n",
    "    f_name = input(\"First Name: \")\n",
    "    if f_name == 'q':\n",
    "        break\n",
    "    \n",
    "    l_name = input(\"Last Name: \")\n",
    "    if l_name == 'q':\n",
    "        break\n",
    "        \n",
    "        formatted_name = get_formatted_name(f_name, l_name)\n",
    "        print(\"\\nHello, {}!\".format(formatted_name))"
   ]
  },
  {
   "cell_type": "code",
   "execution_count": null,
   "metadata": {},
   "outputs": [],
   "source": [
    "def greet_users(names):\n",
    "    \n",
    "    for name in names:\n",
    "        msg = \"Hello, {}!\".format(name)\n",
    "        print(msg)\n",
    "        \n",
    "usernames = ['hannah', 'ty', 'margot']\n",
    "greet_users(usernames)"
   ]
  },
  {
   "cell_type": "code",
   "execution_count": null,
   "metadata": {},
   "outputs": [],
   "source": [
    "unprinted_designs = ['iphone case', 'robot pendant', 'dodecahedron']\n",
    "completed_models = []\n",
    "\n",
    "while unprinted_designs:\n",
    "    current_design = unprinted_designs.pop()\n",
    "    print(\"Printing model: {}\".format(current_design))\n",
    "    completed_models.append(current_design)\n",
    "    \n",
    "print(\"\\nThe following models have been printed:\")\n",
    "for completed_model in completed_models:\n",
    "    print(completed_model)"
   ]
  },
  {
   "cell_type": "code",
   "execution_count": null,
   "metadata": {},
   "outputs": [],
   "source": [
    "def print_models(unprinted_designs, completed_models):\n",
    "    while unprinted_designs:\n",
    "        current_design = unprinted_designs.pop()\n",
    "        print(\"Printing model: {}\".format(current_design))\n",
    "        completed_models.append(current_design)\n",
    "\n",
    "def print_completed_models(completed_models):\n",
    "    print(\"\\nThe following models have been printed:\")\n",
    "    for completed_model in completed_models:\n",
    "        print(completed_model)\n"
   ]
  },
  {
   "cell_type": "code",
   "execution_count": null,
   "metadata": {},
   "outputs": [],
   "source": [
    "unprinted_designs = ['iphone case', 'robot pendant', 'dodecahedron']\n",
    "completed_models = []\n",
    "\n",
    "print_models(unprinted_designs[:], completed_models)\n",
    "print_completed_models(completed_models)\n",
    "print(\"\\n\")\n",
    "print(unprinted_designs)"
   ]
  },
  {
   "cell_type": "code",
   "execution_count": null,
   "metadata": {},
   "outputs": [],
   "source": [
    "# splat operator makes a tuple of incoming parameters\n",
    "def make_pizza(size, *toppings):\n",
    "    print(\"\\nMaking a {}-inch pizza with the following toppings:\".format(size))\n",
    "    for topping in toppings:\n",
    "        print(\"- \" + topping)\n",
    "    \n",
    "make_pizza(12, 'pepperoni')\n",
    "make_pizza(17, 'mushrooms', 'green peppers', 'extra cheese')"
   ]
  },
  {
   "cell_type": "code",
   "execution_count": null,
   "metadata": {},
   "outputs": [],
   "source": [
    "def build_profile(first, last, **user_info):\n",
    "    profile = {}\n",
    "    profile['first_name'] = first\n",
    "    profile['last_name'] = last\n",
    "    for key, value in user_info.items():\n",
    "        profile[key] = value\n",
    "    return profile\n",
    "\n",
    "user_profile = build_profile('albert', 'einstein', location='princeton', field='physics', rank=1)\n",
    "\n",
    "print(user_profile)"
   ]
  },
  {
   "cell_type": "code",
   "execution_count": null,
   "metadata": {},
   "outputs": [],
   "source": [
    "def sandwich_order(*sandwiches):\n",
    "    from IPython.core.debugger import set_trace \n",
    "    for sandwich in sandwiches:\n",
    "        print(sandwich)"
   ]
  },
  {
   "cell_type": "code",
   "execution_count": null,
   "metadata": {},
   "outputs": [],
   "source": [
    "sandwich_order('coldcut','pep','meatball')\n",
    "sandwich_order('beer', 'tp', 'steak', 'salami')\n",
    "sandwich_order('pike')"
   ]
  },
  {
   "cell_type": "code",
   "execution_count": null,
   "metadata": {},
   "outputs": [],
   "source": [
    "import pizza \n",
    "pizza.make_pizza(16, 'pepperoni')\n",
    "pizza.make_pizza(12, 'mushrooms', 'green peppers', 'extra cheese')"
   ]
  },
  {
   "cell_type": "code",
   "execution_count": null,
   "metadata": {},
   "outputs": [],
   "source": [
    "import pdb\n",
    "import pizza\n",
    "\n",
    "pdb.run('pizza.make_pizza(16, 'pepperoni')zzzzzzz)"
   ]
  },
  {
   "cell_type": "code",
   "execution_count": null,
   "metadata": {},
   "outputs": [],
   "source": []
  }
 ],
 "metadata": {
  "kernelspec": {
   "display_name": "Python 3",
   "language": "python",
   "name": "python3"
  },
  "language_info": {
   "codemirror_mode": {
    "name": "ipython",
    "version": 3
   },
   "file_extension": ".py",
   "mimetype": "text/x-python",
   "name": "python",
   "nbconvert_exporter": "python",
   "pygments_lexer": "ipython3",
   "version": "3.6.0"
  }
 },
 "nbformat": 4,
 "nbformat_minor": 2
}
